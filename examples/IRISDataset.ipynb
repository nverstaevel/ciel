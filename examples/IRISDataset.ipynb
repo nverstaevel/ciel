{
 "cells": [
  {
   "cell_type": "code",
   "execution_count": 1,
   "id": "7ea63cef7192255a",
   "metadata": {
    "ExecuteTime": {
     "end_time": "2024-05-15T13:05:09.292329Z",
     "start_time": "2024-05-15T13:05:09.288216Z"
    }
   },
   "outputs": [],
   "source": [
    "from sklearn.metrics import classification_report\n",
    "from sklearn.model_selection import train_test_split, GridSearchCV\n",
    "from sklearn import datasets\n",
    "from torch_mas.ciel import Ciel"
   ]
  },
  {
   "cell_type": "markdown",
   "id": "123188f54b1194a",
   "metadata": {},
   "source": [
    "## Loading the iris dataset"
   ]
  },
  {
   "cell_type": "code",
   "execution_count": 2,
   "id": "7b6467a93d522016",
   "metadata": {
    "ExecuteTime": {
     "end_time": "2024-05-15T13:05:09.345244Z",
     "start_time": "2024-05-15T13:05:09.340359Z"
    }
   },
   "outputs": [],
   "source": [
    "data = datasets.load_iris()"
   ]
  },
  {
   "cell_type": "markdown",
   "id": "e00e4f6e4f6bf483",
   "metadata": {},
   "source": [
    "## Splitting the dataset intro train and test"
   ]
  },
  {
   "cell_type": "code",
   "execution_count": 3,
   "id": "17f828c9244d3c34",
   "metadata": {
    "ExecuteTime": {
     "end_time": "2024-05-15T13:05:09.351268Z",
     "start_time": "2024-05-15T13:05:09.346249Z"
    }
   },
   "outputs": [],
   "source": [
    "X_train, X_test, y_train, y_test = train_test_split(\n",
    "    data.data, data.target, random_state=0\n",
    ")"
   ]
  },
  {
   "cell_type": "markdown",
   "id": "2866a03707173eb6",
   "metadata": {},
   "source": []
  },
  {
   "cell_type": "markdown",
   "id": "ce4fd7d726d8439e",
   "metadata": {},
   "source": [
    "## Learning with Context"
   ]
  },
  {
   "cell_type": "code",
   "execution_count": 5,
   "id": "6b975969b36febcd",
   "metadata": {
    "ExecuteTime": {
     "end_time": "2024-05-15T13:05:09.356735Z",
     "start_time": "2024-05-15T13:05:09.354275Z"
    }
   },
   "outputs": [],
   "source": [
    "from torch_mas.agents.agents_linear_reg import AgentsLinear\n",
    "\n",
    "re = Ciel(\n",
    "    4,\n",
    "    1,\n",
    "    R=0.8,\n",
    "    imprecise_th=0.5,\n",
    "    bad_th=0.0015,\n",
    "    alpha=0.5,\n",
    "    memory_length=3,\n",
    "    n_epochs=5,\n",
    "    agents=AgentsLinear,\n",
    ")"
   ]
  },
  {
   "cell_type": "markdown",
   "id": "40e762f9ad0bb829",
   "metadata": {},
   "source": [
    "## Training the agents"
   ]
  },
  {
   "cell_type": "code",
   "execution_count": 6,
   "id": "ba646631d02b8e5c",
   "metadata": {
    "ExecuteTime": {
     "end_time": "2024-05-15T13:05:10.106572Z",
     "start_time": "2024-05-15T13:05:09.357748Z"
    }
   },
   "outputs": [
    {
     "name": "stdout",
     "output_type": "stream",
     "text": [
      "Total training time: 0.2531881332397461s\n",
      "Number of agents created: 44\n"
     ]
    }
   ],
   "source": [
    "import time\n",
    "\n",
    "t = time.time()\n",
    "re.fit(X_train, y_train)\n",
    "tt = time.time() - t\n",
    "print(f\"Total training time: {tt}s\")\n",
    "\n",
    "print(\"Number of agents created:\", re.estimator.agents.n_agents)"
   ]
  },
  {
   "cell_type": "markdown",
   "id": "44ee5b5cc3a50af2",
   "metadata": {},
   "source": [
    "## Computing performance"
   ]
  },
  {
   "cell_type": "code",
   "execution_count": 7,
   "id": "175936dbd3b66c48",
   "metadata": {
    "ExecuteTime": {
     "end_time": "2024-05-15T13:05:10.119695Z",
     "start_time": "2024-05-15T13:05:10.107578Z"
    }
   },
   "outputs": [
    {
     "name": "stdout",
     "output_type": "stream",
     "text": [
      "              precision    recall  f1-score   support\n",
      "\n",
      "           0       1.00      1.00      1.00        13\n",
      "           1       1.00      0.88      0.93        16\n",
      "           2       0.82      1.00      0.90         9\n",
      "\n",
      "    accuracy                           0.95        38\n",
      "   macro avg       0.94      0.96      0.94        38\n",
      "weighted avg       0.96      0.95      0.95        38\n",
      "\n"
     ]
    }
   ],
   "source": [
    "y_pred = re.predict(X_test)\n",
    "print(classification_report(y_test.round(), y_pred.round()))"
   ]
  },
  {
   "cell_type": "markdown",
   "id": "54e8813eb3aa6710",
   "metadata": {},
   "source": [
    "# Hyperparameter optimisation"
   ]
  },
  {
   "cell_type": "code",
   "execution_count": 8,
   "id": "4e3391cb61f01f4",
   "metadata": {
    "ExecuteTime": {
     "end_time": "2024-05-15T13:05:10.124196Z",
     "start_time": "2024-05-15T13:05:10.120702Z"
    }
   },
   "outputs": [
    {
     "name": "stdout",
     "output_type": "stream",
     "text": [
      "{'R': 0.8, 'agents': <class 'torch_mas.agents.agents_linear_reg.AgentsLinear'>, 'alpha': 0.5, 'bad_th': 0.0015, 'imprecise_th': 0.5, 'input_dim': 4, 'l1': 0.0, 'memory_length': 3, 'n_epochs': 5, 'output_dim': 1}\n"
     ]
    }
   ],
   "source": [
    "print(re.get_params())"
   ]
  },
  {
   "cell_type": "code",
   "execution_count": null,
   "id": "eae499a5a3cb486b",
   "metadata": {
    "ExecuteTime": {
     "end_time": "2024-05-15T13:05:10.129324Z",
     "start_time": "2024-05-15T13:05:10.125205Z"
    }
   },
   "outputs": [],
   "source": [
    "import numpy as np\n",
    "\n",
    "param_grid = [\n",
    "    {\n",
    "        \"R\": np.linspace(0, 1, 11),\n",
    "        \"imprecise_th\": np.linspace(0, 1, 11),\n",
    "        \"alpha\": np.linspace(0, 1, 11),\n",
    "        \"bad_th\": np.linspace(0, 1, 11),\n",
    "    }\n",
    "]"
   ]
  },
  {
   "cell_type": "code",
   "execution_count": null,
   "id": "5823a3020dd3a6d3",
   "metadata": {
    "ExecuteTime": {
     "end_time": "2024-05-15T13:05:10.135288Z",
     "start_time": "2024-05-15T13:05:10.130331Z"
    }
   },
   "outputs": [],
   "source": [
    "re = Ciel(\n",
    "    4, 1, R=0.8, imprecise_th=0.5, bad_th=0.0015, alpha=0.5, memory_length=3, n_epochs=5\n",
    ")"
   ]
  },
  {
   "cell_type": "code",
   "execution_count": null,
   "id": "a3c0abf689dd56cc",
   "metadata": {
    "ExecuteTime": {
     "end_time": "2024-05-15T13:05:10.139010Z",
     "start_time": "2024-05-15T13:05:10.136295Z"
    }
   },
   "outputs": [],
   "source": [
    "grid = GridSearchCV(estimator=re, param_grid=param_grid, scoring=\"accuracy\", verbose=2)"
   ]
  },
  {
   "cell_type": "code",
   "execution_count": null,
   "id": "f6420baf16661b92",
   "metadata": {
    "ExecuteTime": {
     "end_time": "2024-05-15T13:05:59.951409Z",
     "start_time": "2024-05-15T13:05:10.140017Z"
    }
   },
   "outputs": [],
   "source": [
    "grid.fit(X_train, y_train)"
   ]
  },
  {
   "cell_type": "code",
   "execution_count": null,
   "id": "eb0a775026cbc4d7",
   "metadata": {},
   "outputs": [],
   "source": [
    "print(grid.best_params_)"
   ]
  }
 ],
 "metadata": {
  "kernelspec": {
   "display_name": "Python 3.10.14 ('torch-mas')",
   "language": "python",
   "name": "python3"
  },
  "language_info": {
   "codemirror_mode": {
    "name": "ipython",
    "version": 3
   },
   "file_extension": ".py",
   "mimetype": "text/x-python",
   "name": "python",
   "nbconvert_exporter": "python",
   "pygments_lexer": "ipython3",
   "version": "3.10.14"
  },
  "vscode": {
   "interpreter": {
    "hash": "394b4c687aa976017887b8a89c643046da701ea2cbb5073d70393412479b6b3d"
   }
  }
 },
 "nbformat": 4,
 "nbformat_minor": 5
}
